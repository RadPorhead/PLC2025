{
 "cells": [
  {
   "cell_type": "markdown",
   "id": "1256e0c2",
   "metadata": {},
   "source": [
    "## TPC2: Conversor de MarkDown para HTML\n",
    "\n",
    "Criar em Python um pequeno conversor de MarkDown para HTML para os elementos descritos na \"Basic Syntax\" da Cheat Sheet:\n",
    "\n",
    "### Cabeçalhos: linhas iniciadas por \"# texto\", ou \"## texto\" ou \"### texto\"\n",
    "\n",
    "In: `# Exemplo`\n",
    "\n",
    "Out: `<h1>Exemplo</h1>`\n",
    "\n",
    "### Bold: pedaços de texto entre \"**\":\n",
    "\n",
    "In: `Este é um **exemplo** ...`\n",
    "\n",
    "Out: `Este é um <b>exemplo</b> ...`\n",
    "\n",
    "### Itálico: pedaços de texto entre \"*\":\n",
    "\n",
    "In: `Este é um *exemplo* ...`\n",
    "\n",
    "Out: `Este é um <i>exemplo</i> ...`\n",
    "\n",
    "### Lista numerada:\n",
    "\n",
    "In:\n",
    "```\n",
    "1. Primeiro item\n",
    "2. Segundo item\n",
    "3. Terceiro item\n",
    "```\n",
    "\n",
    "Out:\n",
    "```\n",
    "<ol>\n",
    "<li>Primeiro item</li>\n",
    "<li>Segundo item</li>\n",
    "<li>Terceiro item</li>\n",
    "</ol>\n",
    "```\n",
    "\n",
    "### Link: [texto](endereço URL)\n",
    "\n",
    "In: `Como pode ser consultado em [página da UC](http://www.uc.pt)`\n",
    "\n",
    "Out: `Como pode ser consultado em <a href=\"http://www.uc.pt\">página da UC</a>`\n",
    "\n",
    "### Imagem: ![texto alternativo](path para a imagem)\n",
    "\n",
    "In: Como se vê na imagem seguinte: `![imagem dum coelho](http://www.coellho.com) ...`\n",
    "\n",
    "Out: `Como se vê na imagem seguinte: <img src=\"http://www.coellho.com\" alt=\"imagem dum coelho\"/> ...`"
   ]
  },
  {
   "cell_type": "code",
   "execution_count": 130,
   "id": "3f7e5b19",
   "metadata": {},
   "outputs": [],
   "source": [
    "import re"
   ]
  },
  {
   "cell_type": "code",
   "execution_count": 131,
   "id": "7d6c5355",
   "metadata": {},
   "outputs": [],
   "source": [
    "texto = \"\"\"\n",
    "# Meu TPC de Conversor Markdown para HTML\n",
    "\n",
    "Este é um **teste completo** do conversor de Markdown.  \n",
    "Vamos verificar se ele lida com *todos os elementos básicos* corretamente.\n",
    "\n",
    "## Lista de Tarefas\n",
    "\n",
    "1. Criar o conversor em Python\n",
    "2. Testar cabeçalhos\n",
    "3. Testar **negrito**\n",
    "4. Testar *itálico*\n",
    "5. Testar listas numeradas\n",
    "6. Testar links e imagens\n",
    "\n",
    "### Links e Imagens\n",
    "\n",
    "Para mais informações, consulte [a página oficial da UC](http://www.uc.pt).  \n",
    "\n",
    "E veja a imagem abaixo:  \n",
    "![foto coelho](http://www.coelho.com)\n",
    "\n",
    "**Fim do teste**\n",
    "\n",
    "\"\"\""
   ]
  },
  {
   "cell_type": "code",
   "execution_count": 132,
   "id": "fb40f024",
   "metadata": {},
   "outputs": [],
   "source": [
    "def cabecalho(match):\n",
    "    size = len(match.group(1))\n",
    "    return f\"<h{size}>{match.group(2)}</h{size}>\"\n",
    "\n",
    "texto = re.sub(r\"^(#{1,3})\\s+(.+)$\", cabecalho, texto, flags=re.M)\n",
    "#print(texto)"
   ]
  },
  {
   "cell_type": "code",
   "execution_count": null,
   "id": "92f5d9ef",
   "metadata": {},
   "outputs": [],
   "source": [
    "#Negrito\n",
    "texto = re.sub(r\"\\*\\*(.*)\\*\\*\", r\"<b>\\1</b>\", texto, flags=re.M)\n",
    "#print(texto)"
   ]
  },
  {
   "cell_type": "code",
   "execution_count": null,
   "id": "c5850ee9",
   "metadata": {},
   "outputs": [],
   "source": [
    "#Italico\n",
    "texto = re.sub(r\"\\*([^\\*]*)\\*\", r\"<i>\\1</i>\", texto, flags=re.M)\n",
    "#print(texto)"
   ]
  },
  {
   "cell_type": "code",
   "execution_count": 135,
   "id": "2ec5ab11",
   "metadata": {},
   "outputs": [],
   "source": [
    "#Listas numeradas\n",
    "def lista(match):\n",
    "    if match.group(1) == '1':\n",
    "        return f\"<ol>\\n<li>{match.group(2)}</li>\\n\"\n",
    "    return f\"<li>{match.group(2)}</li>\\n\"\n",
    "\n",
    "texto = re.sub(r\"(\\d)+\\.\\s+(.*?)\\n\", lista, texto)\n",
    "#print(texto)"
   ]
  },
  {
   "cell_type": "code",
   "execution_count": 136,
   "id": "4c62e7bc",
   "metadata": {},
   "outputs": [],
   "source": [
    "#Listas numeradas\n",
    "texto = re.sub(r\"</li>\\n[^<]\", r\"</li>\\n</ol>\\n\\n\", texto)\n",
    "#print(texto)"
   ]
  },
  {
   "cell_type": "markdown",
   "id": "002ecb34",
   "metadata": {},
   "source": [
    "### Link: [texto](endereço URL)\n",
    "\n",
    "In: `Como pode ser consultado em [página da UC](http://www.uc.pt)`\n",
    "\n",
    "Out: `Como pode ser consultado em <a href=\"http://www.uc.pt\">página da UC</a>`"
   ]
  },
  {
   "cell_type": "code",
   "execution_count": 137,
   "id": "78194164",
   "metadata": {},
   "outputs": [],
   "source": [
    "texto = re.sub(r\"[^\\!]\\[(.*?)\\]\\((.*?)\\)\", r'<a href=\"\\2\">\\1</a>', texto)\n",
    "#print(texto)"
   ]
  },
  {
   "cell_type": "code",
   "execution_count": 139,
   "id": "7da67f2b",
   "metadata": {},
   "outputs": [
    {
     "name": "stdout",
     "output_type": "stream",
     "text": [
      "\n",
      "<h1>Meu TPC de Conversor Markdown para HTML</h1>\n",
      "\n",
      "Este é um <b>teste completo</b> do conversor de Markdown.  \n",
      "Vamos verificar se ele lida com <i>todos os elementos básicos</i> corretamente.\n",
      "\n",
      "<h2>Lista de Tarefas</h2>\n",
      "\n",
      "<ol>\n",
      "<li>Criar o conversor em Python</li>\n",
      "<li>Testar cabeçalhos</li>\n",
      "<li>Testar <b>negrito</b></li>\n",
      "<li>Testar <i>itálico</i></li>\n",
      "<li>Testar listas numeradas</li>\n",
      "<li>Testar links e imagens</li>\n",
      "</ol>\n",
      "\n",
      "<h3>Links e Imagens</h3>\n",
      "\n",
      "Para mais informações, consulte<a href=\"http://www.uc.pt\">a página oficial da UC</a>.  \n",
      "\n",
      "E veja a imagem abaixo:  \n",
      "<img src=\"http://www.coelho.com\" alt=\"foto coelho\"/>\n",
      "\n",
      "<b>Fim do teste</b>\n",
      "\n",
      "\n"
     ]
    }
   ],
   "source": [
    "texto = re.sub(r\"\\!\\[(.*?)\\]\\((.*?)\\)\", r'<img src=\"\\2\" alt=\"\\1\"/>', texto)\n",
    "print(texto)"
   ]
  },
  {
   "cell_type": "code",
   "execution_count": null,
   "id": "c76904d6",
   "metadata": {},
   "outputs": [],
   "source": []
  }
 ],
 "metadata": {
  "kernelspec": {
   "display_name": "venv",
   "language": "python",
   "name": "python3"
  },
  "language_info": {
   "codemirror_mode": {
    "name": "ipython",
    "version": 3
   },
   "file_extension": ".py",
   "mimetype": "text/x-python",
   "name": "python",
   "nbconvert_exporter": "python",
   "pygments_lexer": "ipython3",
   "version": "3.13.5"
  }
 },
 "nbformat": 4,
 "nbformat_minor": 5
}
